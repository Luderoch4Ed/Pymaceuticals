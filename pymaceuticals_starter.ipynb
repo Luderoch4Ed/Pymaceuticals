{
 "cells": [
  {
   "cell_type": "markdown",
   "metadata": {},
   "source": [
    "## Observations and Insights"
   ]
  },
  {
   "cell_type": "markdown",
   "metadata": {},
   "source": []
  },
  {
   "cell_type": "markdown",
   "metadata": {},
   "source": [
    "## Dependencies and starter code"
   ]
  },
  {
   "cell_type": "code",
   "execution_count": 147,
   "metadata": {},
   "outputs": [
    {
     "data": {
      "text/html": [
       "<div>\n",
       "<style scoped>\n",
       "    .dataframe tbody tr th:only-of-type {\n",
       "        vertical-align: middle;\n",
       "    }\n",
       "\n",
       "    .dataframe tbody tr th {\n",
       "        vertical-align: top;\n",
       "    }\n",
       "\n",
       "    .dataframe thead th {\n",
       "        text-align: right;\n",
       "    }\n",
       "</style>\n",
       "<table border=\"1\" class=\"dataframe\">\n",
       "  <thead>\n",
       "    <tr style=\"text-align: right;\">\n",
       "      <th></th>\n",
       "      <th>Mouse ID</th>\n",
       "      <th>Drug Regimen</th>\n",
       "      <th>Sex</th>\n",
       "      <th>Age_months</th>\n",
       "      <th>Weight (g)</th>\n",
       "      <th>Timepoint</th>\n",
       "      <th>Tumor Volume (mm3)</th>\n",
       "      <th>Metastatic Sites</th>\n",
       "    </tr>\n",
       "  </thead>\n",
       "  <tbody>\n",
       "    <tr>\n",
       "      <td>0</td>\n",
       "      <td>k403</td>\n",
       "      <td>Ramicane</td>\n",
       "      <td>Male</td>\n",
       "      <td>21</td>\n",
       "      <td>16</td>\n",
       "      <td>0</td>\n",
       "      <td>45.000000</td>\n",
       "      <td>0</td>\n",
       "    </tr>\n",
       "    <tr>\n",
       "      <td>1</td>\n",
       "      <td>k403</td>\n",
       "      <td>Ramicane</td>\n",
       "      <td>Male</td>\n",
       "      <td>21</td>\n",
       "      <td>16</td>\n",
       "      <td>5</td>\n",
       "      <td>38.825898</td>\n",
       "      <td>0</td>\n",
       "    </tr>\n",
       "    <tr>\n",
       "      <td>2</td>\n",
       "      <td>k403</td>\n",
       "      <td>Ramicane</td>\n",
       "      <td>Male</td>\n",
       "      <td>21</td>\n",
       "      <td>16</td>\n",
       "      <td>10</td>\n",
       "      <td>35.014271</td>\n",
       "      <td>1</td>\n",
       "    </tr>\n",
       "    <tr>\n",
       "      <td>3</td>\n",
       "      <td>k403</td>\n",
       "      <td>Ramicane</td>\n",
       "      <td>Male</td>\n",
       "      <td>21</td>\n",
       "      <td>16</td>\n",
       "      <td>15</td>\n",
       "      <td>34.223992</td>\n",
       "      <td>1</td>\n",
       "    </tr>\n",
       "    <tr>\n",
       "      <td>4</td>\n",
       "      <td>k403</td>\n",
       "      <td>Ramicane</td>\n",
       "      <td>Male</td>\n",
       "      <td>21</td>\n",
       "      <td>16</td>\n",
       "      <td>20</td>\n",
       "      <td>32.997729</td>\n",
       "      <td>1</td>\n",
       "    </tr>\n",
       "  </tbody>\n",
       "</table>\n",
       "</div>"
      ],
      "text/plain": [
       "  Mouse ID Drug Regimen   Sex  Age_months  Weight (g)  Timepoint  \\\n",
       "0     k403     Ramicane  Male          21          16          0   \n",
       "1     k403     Ramicane  Male          21          16          5   \n",
       "2     k403     Ramicane  Male          21          16         10   \n",
       "3     k403     Ramicane  Male          21          16         15   \n",
       "4     k403     Ramicane  Male          21          16         20   \n",
       "\n",
       "   Tumor Volume (mm3)  Metastatic Sites  \n",
       "0           45.000000                 0  \n",
       "1           38.825898                 0  \n",
       "2           35.014271                 1  \n",
       "3           34.223992                 1  \n",
       "4           32.997729                 1  "
      ]
     },
     "execution_count": 147,
     "metadata": {},
     "output_type": "execute_result"
    }
   ],
   "source": [
    "# Dependencies and Setup\n",
    "import os \n",
    "import csv\n",
    "import matplotlib.pyplot as plt\n",
    "import pandas as pd\n",
    "import scipy.stats as st\n",
    "import pandas as pd\n",
    "import numpy as np\n",
    "\n",
    "# Study data files\n",
    "mouse_metadata = \"data/Mouse_metadata.csv\"\n",
    "study_results = \"data/Study_results.csv\"\n",
    "\n",
    "# Read the mouse data and the study results\n",
    "mouse_metadata = pd.read_csv(mouse_metadata)\n",
    "study_results = pd.read_csv(study_results)\n",
    "\n",
    "# Combine the data into a single dataset\n",
    "research_df = pd.merge(mouse_metadata, study_results, on=\"Mouse ID\")\n",
    "\n",
    "#Change index to Drug Regimen\n",
    "#research_df = research_df.groupby(\"Drug Regimen\")\n",
    "research_df.head()"
   ]
  },
  {
   "cell_type": "markdown",
   "metadata": {},
   "source": [
    "## Summary statistics"
   ]
  },
  {
   "cell_type": "code",
   "execution_count": 148,
   "metadata": {},
   "outputs": [
    {
     "name": "stdout",
     "output_type": "stream",
     "text": [
      "<pandas.core.groupby.generic.DataFrameGroupBy object at 0x00000230240E27C8>\n"
     ]
    },
    {
     "data": {
      "text/html": [
       "<div>\n",
       "<style scoped>\n",
       "    .dataframe tbody tr th:only-of-type {\n",
       "        vertical-align: middle;\n",
       "    }\n",
       "\n",
       "    .dataframe tbody tr th {\n",
       "        vertical-align: top;\n",
       "    }\n",
       "\n",
       "    .dataframe thead th {\n",
       "        text-align: right;\n",
       "    }\n",
       "</style>\n",
       "<table border=\"1\" class=\"dataframe\">\n",
       "  <thead>\n",
       "    <tr style=\"text-align: right;\">\n",
       "      <th></th>\n",
       "      <th>Mouse ID</th>\n",
       "      <th>Sex</th>\n",
       "      <th>Age_months</th>\n",
       "      <th>Weight (g)</th>\n",
       "      <th>Timepoint</th>\n",
       "      <th>Tumor Volume (mm3)</th>\n",
       "      <th>Metastatic Sites</th>\n",
       "    </tr>\n",
       "    <tr>\n",
       "      <th>Drug Regimen</th>\n",
       "      <th></th>\n",
       "      <th></th>\n",
       "      <th></th>\n",
       "      <th></th>\n",
       "      <th></th>\n",
       "      <th></th>\n",
       "      <th></th>\n",
       "    </tr>\n",
       "  </thead>\n",
       "  <tbody>\n",
       "    <tr>\n",
       "      <td>Capomulin</td>\n",
       "      <td>230</td>\n",
       "      <td>230</td>\n",
       "      <td>230</td>\n",
       "      <td>230</td>\n",
       "      <td>230</td>\n",
       "      <td>230</td>\n",
       "      <td>230</td>\n",
       "    </tr>\n",
       "    <tr>\n",
       "      <td>Ceftamin</td>\n",
       "      <td>178</td>\n",
       "      <td>178</td>\n",
       "      <td>178</td>\n",
       "      <td>178</td>\n",
       "      <td>178</td>\n",
       "      <td>178</td>\n",
       "      <td>178</td>\n",
       "    </tr>\n",
       "    <tr>\n",
       "      <td>Infubinol</td>\n",
       "      <td>178</td>\n",
       "      <td>178</td>\n",
       "      <td>178</td>\n",
       "      <td>178</td>\n",
       "      <td>178</td>\n",
       "      <td>178</td>\n",
       "      <td>178</td>\n",
       "    </tr>\n",
       "    <tr>\n",
       "      <td>Ketapril</td>\n",
       "      <td>188</td>\n",
       "      <td>188</td>\n",
       "      <td>188</td>\n",
       "      <td>188</td>\n",
       "      <td>188</td>\n",
       "      <td>188</td>\n",
       "      <td>188</td>\n",
       "    </tr>\n",
       "    <tr>\n",
       "      <td>Naftisol</td>\n",
       "      <td>186</td>\n",
       "      <td>186</td>\n",
       "      <td>186</td>\n",
       "      <td>186</td>\n",
       "      <td>186</td>\n",
       "      <td>186</td>\n",
       "      <td>186</td>\n",
       "    </tr>\n",
       "    <tr>\n",
       "      <td>Placebo</td>\n",
       "      <td>181</td>\n",
       "      <td>181</td>\n",
       "      <td>181</td>\n",
       "      <td>181</td>\n",
       "      <td>181</td>\n",
       "      <td>181</td>\n",
       "      <td>181</td>\n",
       "    </tr>\n",
       "    <tr>\n",
       "      <td>Propriva</td>\n",
       "      <td>161</td>\n",
       "      <td>161</td>\n",
       "      <td>161</td>\n",
       "      <td>161</td>\n",
       "      <td>161</td>\n",
       "      <td>161</td>\n",
       "      <td>161</td>\n",
       "    </tr>\n",
       "    <tr>\n",
       "      <td>Ramicane</td>\n",
       "      <td>228</td>\n",
       "      <td>228</td>\n",
       "      <td>228</td>\n",
       "      <td>228</td>\n",
       "      <td>228</td>\n",
       "      <td>228</td>\n",
       "      <td>228</td>\n",
       "    </tr>\n",
       "    <tr>\n",
       "      <td>Stelasyn</td>\n",
       "      <td>181</td>\n",
       "      <td>181</td>\n",
       "      <td>181</td>\n",
       "      <td>181</td>\n",
       "      <td>181</td>\n",
       "      <td>181</td>\n",
       "      <td>181</td>\n",
       "    </tr>\n",
       "    <tr>\n",
       "      <td>Zoniferol</td>\n",
       "      <td>182</td>\n",
       "      <td>182</td>\n",
       "      <td>182</td>\n",
       "      <td>182</td>\n",
       "      <td>182</td>\n",
       "      <td>182</td>\n",
       "      <td>182</td>\n",
       "    </tr>\n",
       "  </tbody>\n",
       "</table>\n",
       "</div>"
      ],
      "text/plain": [
       "              Mouse ID  Sex  Age_months  Weight (g)  Timepoint  \\\n",
       "Drug Regimen                                                     \n",
       "Capomulin          230  230         230         230        230   \n",
       "Ceftamin           178  178         178         178        178   \n",
       "Infubinol          178  178         178         178        178   \n",
       "Ketapril           188  188         188         188        188   \n",
       "Naftisol           186  186         186         186        186   \n",
       "Placebo            181  181         181         181        181   \n",
       "Propriva           161  161         161         161        161   \n",
       "Ramicane           228  228         228         228        228   \n",
       "Stelasyn           181  181         181         181        181   \n",
       "Zoniferol          182  182         182         182        182   \n",
       "\n",
       "              Tumor Volume (mm3)  Metastatic Sites  \n",
       "Drug Regimen                                        \n",
       "Capomulin                    230               230  \n",
       "Ceftamin                     178               178  \n",
       "Infubinol                    178               178  \n",
       "Ketapril                     188               188  \n",
       "Naftisol                     186               186  \n",
       "Placebo                      181               181  \n",
       "Propriva                     161               161  \n",
       "Ramicane                     228               228  \n",
       "Stelasyn                     181               181  \n",
       "Zoniferol                    182               182  "
      ]
     },
     "execution_count": 148,
     "metadata": {},
     "output_type": "execute_result"
    }
   ],
   "source": [
    "# Generate a summary statistics table of mean, median, variance, standard deviation, \n",
    "# and SEM of the tumor volume for each regimen\n",
    "Grouped_research_df = research_df.groupby(['Drug Regimen'])\n",
    "\n",
    "print(Grouped_research_df)\n",
    "Grouped_research_df.count().head(10)"
   ]
  },
  {
   "cell_type": "code",
   "execution_count": 149,
   "metadata": {},
   "outputs": [
    {
     "data": {
      "text/plain": [
       "Drug Regimen  Metastatic Sites\n",
       "Capomulin     0                   118\n",
       "              1                    67\n",
       "              2                    38\n",
       "              3                     7\n",
       "Ceftamin      0                    67\n",
       "Name: Metastatic Sites, dtype: int64"
      ]
     },
     "execution_count": 149,
     "metadata": {},
     "output_type": "execute_result"
    }
   ],
   "source": [
    "Sites_Counts = Grouped_research_df[\"Metastatic Sites\"].value_counts()\n",
    "Sites_Counts.head()"
   ]
  },
  {
   "cell_type": "code",
   "execution_count": 150,
   "metadata": {},
   "outputs": [
    {
     "data": {
      "text/html": [
       "<div>\n",
       "<style scoped>\n",
       "    .dataframe tbody tr th:only-of-type {\n",
       "        vertical-align: middle;\n",
       "    }\n",
       "\n",
       "    .dataframe tbody tr th {\n",
       "        vertical-align: top;\n",
       "    }\n",
       "\n",
       "    .dataframe thead th {\n",
       "        text-align: right;\n",
       "    }\n",
       "</style>\n",
       "<table border=\"1\" class=\"dataframe\">\n",
       "  <thead>\n",
       "    <tr style=\"text-align: right;\">\n",
       "      <th></th>\n",
       "      <th>Mean Tumor Volume</th>\n",
       "      <th>Median Tumor Volume</th>\n",
       "      <th>Tumor Volume Variance</th>\n",
       "      <th>Tumor Volume Std.</th>\n",
       "      <th>Volume Standard Error</th>\n",
       "      <th>Total Volume</th>\n",
       "      <th>Total Metastatic Sites</th>\n",
       "      <th>Total Weight</th>\n",
       "    </tr>\n",
       "    <tr>\n",
       "      <th>Drug Regimen</th>\n",
       "      <th></th>\n",
       "      <th></th>\n",
       "      <th></th>\n",
       "      <th></th>\n",
       "      <th></th>\n",
       "      <th></th>\n",
       "      <th></th>\n",
       "      <th></th>\n",
       "    </tr>\n",
       "  </thead>\n",
       "  <tbody>\n",
       "    <tr>\n",
       "      <td>Capomulin</td>\n",
       "      <td>40.675741</td>\n",
       "      <td>41.557809</td>\n",
       "      <td>24.947764</td>\n",
       "      <td>4.994774</td>\n",
       "      <td>0.329346</td>\n",
       "      <td>9355.420462</td>\n",
       "      <td>230</td>\n",
       "      <td>4592</td>\n",
       "    </tr>\n",
       "    <tr>\n",
       "      <td>Ceftamin</td>\n",
       "      <td>52.591172</td>\n",
       "      <td>51.776157</td>\n",
       "      <td>39.290177</td>\n",
       "      <td>6.268188</td>\n",
       "      <td>0.469821</td>\n",
       "      <td>9361.228582</td>\n",
       "      <td>178</td>\n",
       "      <td>4877</td>\n",
       "    </tr>\n",
       "    <tr>\n",
       "      <td>Infubinol</td>\n",
       "      <td>52.884795</td>\n",
       "      <td>51.820584</td>\n",
       "      <td>43.128684</td>\n",
       "      <td>6.567243</td>\n",
       "      <td>0.492236</td>\n",
       "      <td>9413.493529</td>\n",
       "      <td>178</td>\n",
       "      <td>4841</td>\n",
       "    </tr>\n",
       "    <tr>\n",
       "      <td>Ketapril</td>\n",
       "      <td>55.235638</td>\n",
       "      <td>53.698743</td>\n",
       "      <td>68.553577</td>\n",
       "      <td>8.279709</td>\n",
       "      <td>0.603860</td>\n",
       "      <td>10384.299876</td>\n",
       "      <td>188</td>\n",
       "      <td>5238</td>\n",
       "    </tr>\n",
       "    <tr>\n",
       "      <td>Naftisol</td>\n",
       "      <td>54.331565</td>\n",
       "      <td>52.509285</td>\n",
       "      <td>66.173479</td>\n",
       "      <td>8.134708</td>\n",
       "      <td>0.596466</td>\n",
       "      <td>10105.671026</td>\n",
       "      <td>186</td>\n",
       "      <td>5053</td>\n",
       "    </tr>\n",
       "    <tr>\n",
       "      <td>Placebo</td>\n",
       "      <td>54.033581</td>\n",
       "      <td>52.288934</td>\n",
       "      <td>61.168083</td>\n",
       "      <td>7.821003</td>\n",
       "      <td>0.581331</td>\n",
       "      <td>9780.078122</td>\n",
       "      <td>181</td>\n",
       "      <td>5055</td>\n",
       "    </tr>\n",
       "    <tr>\n",
       "      <td>Propriva</td>\n",
       "      <td>52.322552</td>\n",
       "      <td>50.854632</td>\n",
       "      <td>42.351070</td>\n",
       "      <td>6.507770</td>\n",
       "      <td>0.512884</td>\n",
       "      <td>8423.930878</td>\n",
       "      <td>161</td>\n",
       "      <td>4354</td>\n",
       "    </tr>\n",
       "    <tr>\n",
       "      <td>Ramicane</td>\n",
       "      <td>40.216745</td>\n",
       "      <td>40.673236</td>\n",
       "      <td>23.486704</td>\n",
       "      <td>4.846308</td>\n",
       "      <td>0.320955</td>\n",
       "      <td>9169.417875</td>\n",
       "      <td>228</td>\n",
       "      <td>4487</td>\n",
       "    </tr>\n",
       "    <tr>\n",
       "      <td>Stelasyn</td>\n",
       "      <td>54.233149</td>\n",
       "      <td>52.431737</td>\n",
       "      <td>59.450562</td>\n",
       "      <td>7.710419</td>\n",
       "      <td>0.573111</td>\n",
       "      <td>9816.199991</td>\n",
       "      <td>181</td>\n",
       "      <td>5042</td>\n",
       "    </tr>\n",
       "    <tr>\n",
       "      <td>Zoniferol</td>\n",
       "      <td>53.236507</td>\n",
       "      <td>51.818479</td>\n",
       "      <td>48.533355</td>\n",
       "      <td>6.966589</td>\n",
       "      <td>0.516398</td>\n",
       "      <td>9689.044192</td>\n",
       "      <td>182</td>\n",
       "      <td>5040</td>\n",
       "    </tr>\n",
       "  </tbody>\n",
       "</table>\n",
       "</div>"
      ],
      "text/plain": [
       "              Mean Tumor Volume  Median Tumor Volume  Tumor Volume Variance  \\\n",
       "Drug Regimen                                                                  \n",
       "Capomulin             40.675741            41.557809              24.947764   \n",
       "Ceftamin              52.591172            51.776157              39.290177   \n",
       "Infubinol             52.884795            51.820584              43.128684   \n",
       "Ketapril              55.235638            53.698743              68.553577   \n",
       "Naftisol              54.331565            52.509285              66.173479   \n",
       "Placebo               54.033581            52.288934              61.168083   \n",
       "Propriva              52.322552            50.854632              42.351070   \n",
       "Ramicane              40.216745            40.673236              23.486704   \n",
       "Stelasyn              54.233149            52.431737              59.450562   \n",
       "Zoniferol             53.236507            51.818479              48.533355   \n",
       "\n",
       "              Tumor Volume Std.  Volume Standard Error  Total Volume  \\\n",
       "Drug Regimen                                                           \n",
       "Capomulin              4.994774               0.329346   9355.420462   \n",
       "Ceftamin               6.268188               0.469821   9361.228582   \n",
       "Infubinol              6.567243               0.492236   9413.493529   \n",
       "Ketapril               8.279709               0.603860  10384.299876   \n",
       "Naftisol               8.134708               0.596466  10105.671026   \n",
       "Placebo                7.821003               0.581331   9780.078122   \n",
       "Propriva               6.507770               0.512884   8423.930878   \n",
       "Ramicane               4.846308               0.320955   9169.417875   \n",
       "Stelasyn               7.710419               0.573111   9816.199991   \n",
       "Zoniferol              6.966589               0.516398   9689.044192   \n",
       "\n",
       "              Total Metastatic Sites  Total Weight  \n",
       "Drug Regimen                                        \n",
       "Capomulin                        230          4592  \n",
       "Ceftamin                         178          4877  \n",
       "Infubinol                        178          4841  \n",
       "Ketapril                         188          5238  \n",
       "Naftisol                         186          5053  \n",
       "Placebo                          181          5055  \n",
       "Propriva                         161          4354  \n",
       "Ramicane                         228          4487  \n",
       "Stelasyn                         181          5042  \n",
       "Zoniferol                        182          5040  "
      ]
     },
     "execution_count": 150,
     "metadata": {},
     "output_type": "execute_result"
    }
   ],
   "source": [
    "#Data integrity checck using field counts\n",
    "Mean_Vol = Grouped_research_df[\"Tumor Volume (mm3)\"].mean()\n",
    "Med_Vol = Grouped_research_df['Tumor Volume (mm3)'].median()\n",
    "Var_Vol = Grouped_research_df['Tumor Volume (mm3)'].var()\n",
    "STD_Vol = Grouped_research_df['Tumor Volume (mm3)'].std()\n",
    "SEM_Vol = Grouped_research_df['Tumor Volume (mm3)'].sem()\n",
    "Total_Vol = Grouped_research_df['Tumor Volume (mm3)'].sum()\n",
    "Total_Sites = Grouped_research_df['Metastatic Sites'].count()\n",
    "Total_Weight = Grouped_research_df['Weight (g)'].sum()\n",
    "Summary_ofRegimen_df = pd.DataFrame({\"Mean Tumor Volume\": Mean_Vol,\n",
    "                                     \"Median Tumor Volume\": Med_Vol,\n",
    "                                     \"Tumor Volume Variance\": Var_Vol,\n",
    "                                     \"Tumor Volume Std.\": STD_Vol,\n",
    "                                     \"Volume Standard Error\": SEM_Vol,\n",
    "                                     \"Total Volume\": Total_Vol,\n",
    "                                     \"Total Metastatic Sites\": Total_Sites,\n",
    "                                     \"Total Weight\": Total_Weight})\n",
    "Summary_ofRegimen_df"
   ]
  },
  {
   "cell_type": "markdown",
   "metadata": {},
   "source": [
    "## Bar plots"
   ]
  },
  {
   "cell_type": "code",
   "execution_count": 151,
   "metadata": {},
   "outputs": [
    {
     "data": {
      "image/png": "[encoded data removed]",
      "text/plain": [
       "<Figure size 720x360 with 1 Axes>"
      ]
     },
     "metadata": {
      "needs_background": "light"
     },
     "output_type": "display_data"
    },
    {
     "data": {
      "text/plain": [
       "<Figure size 432x288 with 0 Axes>"
      ]
     },
     "metadata": {},
     "output_type": "display_data"
    }
   ],
   "source": [
    "# Generate a bar plot showing number of data points for each treatment regimen using pandas\n",
    "# Filter the DataFrame down only to those columns to chart\n",
    "Drug_by_DataPoints = Grouped_research_df.count()[\"Metastatic Sites\"]\n",
    "\n",
    "# Set the index to be \"State\" so they will be used as labels\n",
    "#Drug_by_DataPoints = Drug_by_DataPoints.set_index(\"Drug Regimen\")\n",
    "\n",
    "Drug_by_DataPoints.head()\n",
    "# Use DataFrame.plot() in order to create a bar chart of the data\n",
    "Drug_by_DataPoints.plot(kind=\"bar\", figsize=(10,5))\n",
    "\n",
    "# Set a title for the chart\n",
    "plt.title(\"Drug Regimen by Number of Metastatic Sites\")\n",
    "\n",
    "plt.show()\n",
    "plt.tight_layout()"
   ]
  },
  {
   "cell_type": "code",
   "execution_count": 152,
   "metadata": {},
   "outputs": [
    {
     "data": {
      "text/plain": [
       "Text(0, 0.5, 'Counts')"
      ]
     },
     "execution_count": 152,
     "metadata": {},
     "output_type": "execute_result"
    },
    {
     "data": {
      "image/png": "[encoded data removed]",
      "text/plain": [
       "<Figure size 432x288 with 1 Axes>"
      ]
     },
     "metadata": {
      "needs_background": "light"
     },
     "output_type": "display_data"
    }
   ],
   "source": [
    "# Generate a bar plot showing number of data points for each treatment regimen using pyplot\n",
    "\n",
    "# Drug regimen list for x axis \n",
    "points = Drug_by_DataPoints\n",
    "\n",
    "# Set x axis to drug regimens\n",
    "x_axis = np.arange(len(Drug_by_DataPoints))\n",
    "\n",
    "# plot bar graph with red showing differening pylot version\n",
    "plt.bar(x_axis, points, color=\"b\", alpha=1, align=\"center\")\n",
    "\n",
    "# set tick locations to the drug regimens\n",
    "tick_locations = [value for value in x_axis]\n",
    "\n",
    "plt.xticks(tick_locations,['Capomulin', 'Ceftamin', 'Infubinol', 'Ketapril', 'Naftisol', \n",
    "                           'Placebo', 'Propriva', 'Ramicane', 'Stelasyn', 'Zoniferol'], rotation='vertical')\n",
    "# plot formatting \n",
    "plt.xlim(-0.75, len(x_axis)-0.25)\n",
    "plt.ylim(0, max(points)+10)\n",
    "plt.title(\"Drug Regimen by Number of Metastatic Sites\")\n",
    "plt.xlabel(\"Drug Regimen\")\n",
    "plt.ylabel(\"Counts\")"
   ]
  },
  {
   "cell_type": "markdown",
   "metadata": {},
   "source": [
    "## Pie plots"
   ]
  },
  {
   "cell_type": "code",
   "execution_count": 153,
   "metadata": {},
   "outputs": [
    {
     "data": {
      "image/png": "[encoded data removed]",
      "text/plain": [
       "<Figure size 432x288 with 1 Axes>"
      ]
     },
     "metadata": {},
     "output_type": "display_data"
    }
   ],
   "source": [
    "# Generate a pie plot showing the distribution of female versus male mice using pandas\n",
    "#Gender_Chart = research_df[\"Sex\"].value_counts().plot.pie()\n",
    "ax1 = plt.subplot(121, aspect='equal')\n",
    "Gender_Chart = research_df[\"Sex\"].value_counts().plot(kind='pie', y = 'total_arrests', ax=ax1, autopct='%1.1f%%')"
   ]
  },
  {
   "cell_type": "code",
   "execution_count": 154,
   "metadata": {},
   "outputs": [
    {
     "data": {
      "text/plain": [
       "([<matplotlib.patches.Wedge at 0x23024a32688>,\n",
       "  <matplotlib.patches.Wedge at 0x23024a32308>],\n",
       " [Text(-0.02099250347258543, 1.0997996703027118, 'Male'),\n",
       "  Text(0.020992503472585782, -1.0997996703027118, 'Female')],\n",
       " [Text(-0.01145045643959205, 0.5998907292560246, '50.6%'),\n",
       "  Text(0.011450456439592244, -0.5998907292560246, '49.4%')])"
      ]
     },
     "execution_count": 154,
     "metadata": {},
     "output_type": "execute_result"
    },
    {
     "data": {
      "image/png": "[encoded data removed]",
      "text/plain": [
       "<Figure size 432x288 with 1 Axes>"
      ]
     },
     "metadata": {},
     "output_type": "display_data"
    }
   ],
   "source": [
    "# Generate a pie plot showing the distribution of female versus male mice using pyplot\n",
    "plt.pie(research_df[\"Sex\"].value_counts(),autopct='%1.1f%%', labels=[\"Male\",\"Female\"] )"
   ]
  },
  {
   "cell_type": "markdown",
   "metadata": {},
   "source": [
    "## Quartiles, outliers and boxplots"
   ]
  },
  {
   "cell_type": "code",
   "execution_count": 155,
   "metadata": {},
   "outputs": [
    {
     "name": "stdout",
     "output_type": "stream",
     "text": [
      "Capomulin potential tumor volume outliers could fall below 20.70456164999999 or above 51.83201549\n",
      "Ramicane potential tumor volume outliers could fall below 17.912664470000003 or above 54.30681135\n",
      "Infubinol potential tumor volume outliers could fall below 36.83290494999999 or above 82.74144559000001\n",
      "Ceftamin potential tumor volume outliers could fall below 25.355449580000002 or above 87.66645829999999\n"
     ]
    }
   ],
   "source": [
    "#Calculate the final tumor volume of each mouse across four of the most promising treatment regimens. \n",
    "#Caculate the IQR and quantitatively determine if there are any potential outliers.\n",
    "\n",
    "#Capomulin: IQR and quantitatively\n",
    "capo_df = research_df.loc[research_df[\"Drug Regimen\"] == \"Capomulin\",:]\n",
    "index_final = capo_df.groupby('Mouse ID').max()['Timepoint']\n",
    "capo_df_merged = pd.DataFrame(index_final)\n",
    "capo_df_merged = pd.merge(capo_df, capo_df_merged, on=(\"Mouse ID\",\"Timepoint\"),how=\"right\")\n",
    "capo_vol = capo_df_merged[\"Tumor Volume (mm3)\"]\n",
    "\n",
    "quartiles = capo_vol.quantile([.25,.5,.75])\n",
    "lower_qrt = quartiles[0.25]\n",
    "upper_qrt = quartiles[0.75]\n",
    "iqr = upper_qrt-lower_qrt\n",
    "\n",
    "lower_bound = lower_qrt - (1.5*iqr)\n",
    "upper_bound = upper_qrt + (1.5*iqr)\n",
    "print(f\"Capomulin potential tumor volume outliers could fall below {lower_bound} or above {upper_bound}\")\n",
    "\n",
    "#Ramicane: IQR and quantitatively\n",
    "rami_df = research_df.loc[research_df[\"Drug Regimen\"] == \"Ramicane\", :]\n",
    "index_final = rami_df.groupby('Mouse ID').max()['Timepoint']\n",
    "rami_df_merged = pd.DataFrame(index_final)\n",
    "rami_df_merged = pd.merge(rami_df, rami_df_merged, on=(\"Mouse ID\",\"Timepoint\"),how=\"right\")\n",
    "rami_vol = rami_df_merged[\"Tumor Volume (mm3)\"]\n",
    "\n",
    "quartiles = rami_vol.quantile([.25,.5,.75])\n",
    "lower_qrt = quartiles[0.25]\n",
    "upper_qrt = quartiles[0.75]\n",
    "iqr = upper_qrt-lower_qrt\n",
    "\n",
    "lower_bound = lower_qrt - (1.5*iqr)\n",
    "upper_bound = upper_qrt + (1.5*iqr)\n",
    "print(f\"Ramicane potential tumor volume outliers could fall below {lower_bound} or above {upper_bound}\")\n",
    "\n",
    "#Infubinol:  IQR and quantitatively\n",
    "Infu_df = research_df.loc[research_df[\"Drug Regimen\"] == \"Infubinol\", :]\n",
    "index_final = Infu_df.groupby('Mouse ID').max()['Timepoint']\n",
    "Infu_df_merged = pd.DataFrame(index_final)\n",
    "Infu_df_merged = pd.merge(Infu_df, Infu_df_merged, on=(\"Mouse ID\",\"Timepoint\"),how=\"right\")\n",
    "Infu_vol = Infu_df_merged[\"Tumor Volume (mm3)\"]\n",
    "\n",
    "quartiles = Infu_vol.quantile([.25,.5,.75])\n",
    "lower_qrt = quartiles[0.25]\n",
    "upper_qrt = quartiles[0.75]\n",
    "iqr = upper_qrt-lower_qrt\n",
    "\n",
    "lower_bound = lower_qrt - (1.5*iqr)\n",
    "upper_bound = upper_qrt + (1.5*iqr)\n",
    "print(f\"Infubinol potential tumor volume outliers could fall below {lower_bound} or above {upper_bound}\")\n",
    "\n",
    "#Ceftamin:  IQR and quantitatively\n",
    "Ceft_df = research_df.loc[research_df[\"Drug Regimen\"] == \"Ceftamin\", :]\n",
    "index_final = Ceft_df.groupby('Mouse ID').max()['Timepoint']\n",
    "Ceft_df_merged = pd.DataFrame(index_final)\n",
    "Ceft_df_merged = pd.merge(Ceft_df, Ceft_df_merged, on=(\"Mouse ID\",\"Timepoint\"))\n",
    "Ceft_vol = Ceft_df_merged[\"Tumor Volume (mm3)\"]\n",
    "\n",
    "quartiles = Ceft_vol.quantile([.25,.5,.75])\n",
    "lower_qrt = quartiles[0.25]\n",
    "upper_qrt = quartiles[0.75]\n",
    "iqr = upper_qrt-lower_qrt\n",
    "\n",
    "lower_bound = lower_qrt - (1.5*iqr)\n",
    "upper_bound = upper_qrt + (1.5*iqr)\n",
    "print(f\"Ceftamin potential tumor volume outliers could fall below {lower_bound} or above {upper_bound}\")\n"
   ]
  },
  {
   "cell_type": "code",
   "execution_count": 156,
   "metadata": {},
   "outputs": [
    {
     "data": {
      "image/png": "[encoded data removed]",
      "text/plain": [
       "<Figure size 432x288 with 1 Axes>"
      ]
     },
     "metadata": {
      "needs_background": "light"
     },
     "output_type": "display_data"
    }
   ],
   "source": [
    "# Generate a box plot of the final tumor volume of each mouse across four regimens of interest\n",
    "# Select data for the top four perferming drug regimen\n",
    "top_drugs = research_df[research_df[\"Drug Regimen\"].isin([\"Capomulin\", \"Ramicane\", \"Infubinol\", \"Ceftamin\"])]\n",
    "top_drugs = top_drugs.sort_values([\"Timepoint\"], ascending=True)\n",
    "top_drugs\n",
    "\n",
    "top_drugs_data = top_drugs[[\"Drug Regimen\", \"Mouse ID\", \"Timepoint\", \"Tumor Volume (mm3)\"]]\n",
    "\n",
    "top_drugs_data\n",
    "# Arrange data in preparations to for box plot for  across top four regimens \n",
    "sorted_top_drugs = top_drugs_data.groupby(['Drug Regimen', 'Mouse ID']).last()['Tumor Volume (mm3)']\n",
    "\n",
    "# Convert sorted data into dataframe to easily manipulate\n",
    "most_promise_df = sorted_top_drugs.to_frame()\n",
    "most_promise_df\n",
    "\n",
    "#Top four drug regiment list\n",
    "Top_List = ['Capomulin', 'Ramicane', 'Infubinol','Ceftamin']\n",
    "\n",
    "# Generate a box plot of the final tumor volume of each mouse across four regimens of interest\n",
    "topdrug_df = most_promise_df.reset_index()\n",
    "regimen_dist = topdrug_df.groupby('Drug Regimen')['Tumor Volume (mm3)'].apply(list)\n",
    "regimen_dist = pd.DataFrame(regimen_dist)\n",
    "regimen_dist = regimen_dist.reindex(Top_List)\n",
    "regimen_vols = [vol for vol in regimen_dist['Tumor Volume (mm3)']]\n",
    "plt.boxplot(regimen_vols, labels=Top_List)\n",
    "plt.ylim(10, 80)\n",
    "plt.title(\"Tumor Volume for top 4 Drugs\")\n",
    "plt.ylabel(\"Tumor Volumes\")\n",
    "plt.xlabel(\"Drugs Regimen\")\n",
    "plt.show()"
   ]
  },
  {
   "cell_type": "markdown",
   "metadata": {},
   "source": [
    "## Line and scatter plots"
   ]
  },
  {
   "cell_type": "code",
   "execution_count": 157,
   "metadata": {},
   "outputs": [
    {
     "data": {
      "image/png": "[encoded data removed]",
      "text/plain": [
       "<Figure size 432x288 with 1 Axes>"
      ]
     },
     "metadata": {
      "needs_background": "light"
     },
     "output_type": "display_data"
    }
   ],
   "source": [
    "# Generate a line plot of time point versus tumor volume for a mouse treated with Capomulin\n",
    "mouse_df = research_df.loc[research_df[\"Drug Regimen\"] == \"Capomulin\"]\n",
    "mouse_data = mouse_df.loc[mouse_df[\"Mouse ID\"]== \"s185\"]\n",
    "plt.plot(mouse_data['Timepoint'],mouse_data['Tumor Volume (mm3)']);\n",
    "plt.ylabel(\"Tumor Volume (mm3)\")\n",
    "plt.xlabel(\"Timepoint\")\n",
    "plt.title(\"Timepoint by Tumor Volume\")\n",
    "plt.show()"
   ]
  },
  {
   "cell_type": "code",
   "execution_count": 158,
   "metadata": {},
   "outputs": [
    {
     "data": {
      "image/png": "[encoded data removed]",
      "text/plain": [
       "<Figure size 432x288 with 1 Axes>"
      ]
     },
     "metadata": {
      "needs_background": "light"
     },
     "output_type": "display_data"
    }
   ],
   "source": [
    "# Generate a scatter plot of mouse weight versus average tumor volume for the Capomulin regimen\n",
    "capo_only_df = research_df.loc[research_df[\"Drug Regimen\"] == \"Capomulin\",:]\n",
    "capo_avg_df = capo_only_df.groupby(['Mouse ID']).mean()# Compute an averaged df; all fields may not make sense\n",
    "plt.scatter(capo_avg_df['Weight (g)'],capo_avg_df['Tumor Volume (mm3)'])\n",
    "plt.xlabel('Weight (g)')\n",
    "plt.ylabel('Average Tumor Volume')\n",
    "\n",
    "plt.savefig('Mean Tumor Vol vs Weight')\n",
    "plt.show()\n"
   ]
  },
  {
   "cell_type": "code",
   "execution_count": 159,
   "metadata": {},
   "outputs": [
    {
     "name": "stdout",
     "output_type": "stream",
     "text": [
      "The r-squared is: 0.8419363424694718\n"
     ]
    },
    {
     "data": {
      "image/png": "[encoded data removed]",
      "text/plain": [
       "<Figure size 432x288 with 1 Axes>"
      ]
     },
     "metadata": {
      "needs_background": "light"
     },
     "output_type": "display_data"
    }
   ],
   "source": [
    "# Calculate the correlation coefficient and linear regression model for mouse weight and average tumor volume for the Capomulin regimen\n",
    "# Add the linear regression equation and line to plot\n",
    "x_values = capo_avg_df['Weight (g)']\n",
    "y_values = capo_avg_df['Tumor Volume (mm3)']\n",
    "(slope, intercept, rvalue, pvalue, stderr) = st.linregress(x_values, y_values)\n",
    "bestfit_values = x_values * slope + intercept\n",
    "linear_eq = \"y = \" + str(round(slope,2)) + \"x + \" + str(round(intercept,2))\n",
    "plt.scatter(x_values,y_values)\n",
    "plt.plot(x_values,bestfit_values,\"r-\")\n",
    "plt.annotate(linear_eq,(6,10),fontsize=15,color=\"red\")\n",
    "plt.xlabel('Weight (g)')\n",
    "plt.ylabel('Average Tumor Volume (mm3)')\n",
    "# Print out the r-squared value along with the plot.\n",
    "print(f\"The r-squared is: {rvalue}\")\n",
    "plt.savefig('Avg Tumor Vol vs Weight-Capomulin w regression')\n",
    "plt.show()"
   ]
  },
  {
   "cell_type": "code",
   "execution_count": null,
   "metadata": {},
   "outputs": [],
   "source": []
  }
 ],
 "metadata": {
  "anaconda-cloud": {},
  "kernelspec": {
   "display_name": "Python 3",
   "language": "python",
   "name": "python3"
  },
  "language_info": {
   "codemirror_mode": {
    "name": "ipython",
    "version": 3
   },
   "file_extension": ".py",
   "mimetype": "text/x-python",
   "name": "python",
   "nbconvert_exporter": "python",
   "pygments_lexer": "ipython3",
   "version": "3.7.4"
  }
 },
 "nbformat": 4,
 "nbformat_minor": 2
}
